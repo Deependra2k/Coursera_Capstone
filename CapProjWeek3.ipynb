{
 "cells": [
  {
   "cell_type": "code",
   "execution_count": 2,
   "metadata": {},
   "outputs": [],
   "source": [
    "import pandas as pd"
   ]
  },
  {
   "cell_type": "code",
   "execution_count": 1,
   "metadata": {},
   "outputs": [
    {
     "name": "stdout",
     "output_type": "stream",
     "text": [
      "\n",
      "The following command must be run outside of the IPython shell:\n",
      "\n",
      "    $ pip install lxml\n",
      "\n",
      "The Python package manager (pip) can only be used from outside of IPython.\n",
      "Please reissue the `pip` command in a separate terminal or command prompt.\n",
      "\n",
      "See the Python documentation for more information on how to install packages:\n",
      "\n",
      "    https://docs.python.org/3/installing/\n"
     ]
    }
   ],
   "source": [
    "pip install lxml"
   ]
  },
  {
   "cell_type": "code",
   "execution_count": 3,
   "metadata": {},
   "outputs": [],
   "source": [
    "import requests\n",
    "import pandas as pd\n",
    "#read website date into a dataframe\n",
    "Toronto_data=pd.read_html(\"https://en.wikipedia.org/wiki/List_of_postal_codes_of_Canada:_M\")\n",
    "Toronto_data=Toronto_data[0]\n",
    "\n",
    "# stack all the data into a single column\n",
    "Toronto_datanew = pd.Series(Toronto_data.values.ravel('F'))\n",
    "\n",
    "Toronto_code = Toronto_datanew.to_frame()\n",
    "Toronto_code.columns = ['A']\n",
    "\n",
    "#Extract the PostalCode and Borough \n",
    "Toronto_code['PostalCode']=Toronto_code['A'].astype(str).str[0:3]\n",
    "Toronto_code['Borough']=Toronto_code['A'].astype(str).str[3:]\n",
    "\n",
    "# delete all records with Borough as 'Not Assigned'\n",
    "Toronto_code = Toronto_code[Toronto_code.Borough != 'Not assigned']\n",
    "Toronto_code = Toronto_code[['PostalCode','Borough']]\n",
    "\n",
    "#Extract the data for Neighborhood \n",
    "import re\n",
    "Toronto_code['Neighborhood'] = Toronto_code['Borough'].apply(lambda x: re.findall('\\((.*?)\\)',x))\n",
    "df=Toronto_code['Borough'].str.split('(', expand=True)\n",
    "df.columns = ['A','B','C']\n",
    "Toronto_code['Borough'] = df['A'] \n",
    "Toronto_code = Toronto_code[['PostalCode','Borough','Neighborhood']]\n",
    "Toronto_code['Neighborhood'] = Toronto_code['Neighborhood'].str.get(0)\n",
    "#Sort the data by POstal Code and Borough\n",
    "Toronto_code = Toronto_code.sort_values(by =['PostalCode','Borough'])\n",
    "\n",
    "#Check for duplicate entrees for Postal Code\n",
    "Toronto_code1 = Toronto_code[Toronto_code.Neighborhood != 'Not assigned']\n",
    "\n",
    "#Total Records is equal to Total unique records for column PostalCode\n",
    "\n",
    "# Merge the Neighborhood Data if PostalCode and Borough are Same\n",
    "\n",
    "NumofRows = len(Toronto_code.index)\n",
    "count = 0\n",
    "nextcount = 1\n",
    "while count!=NumofRows:\n",
    "    if nextcount == NumofRows:\n",
    "        break\n",
    "    if ((Toronto_code['PostalCode'].iloc[count] == Toronto_code['PostalCode'].iloc[nextcount]) & (Toronto_code['PostalCode'].iloc[count] == Toronto_code['Borough'].iloc[nextcount])):\n",
    "        Toronto_code['Neighborhood'].iloc[count] = (Toronto_code['PostalCode'].iloc[count] + ' , ' + Toronto_code['PostalCode'].iloc[nextcount])\n",
    "        Toronto_code.drop(df.index[[nextcount]])\n",
    "    count = count + 1\n",
    "    nextcount = nextcount +1\n"
   ]
  },
  {
   "cell_type": "code",
   "execution_count": 4,
   "metadata": {},
   "outputs": [
    {
     "data": {
      "text/plain": [
       "(103, 3)"
      ]
     },
     "execution_count": 4,
     "metadata": {},
     "output_type": "execute_result"
    }
   ],
   "source": [
    "Toronto_code.shape"
   ]
  },
  {
   "cell_type": "code",
   "execution_count": 5,
   "metadata": {},
   "outputs": [],
   "source": [
    "#extract the Longitute and latitude data\n",
    "Toronto_geodata=pd.read_csv(\"http://cocl.us/Geospatial_data\")\n",
    "\n",
    "# Sort the data by Postal Code\n",
    "Toronto_geodata = Toronto_geodata.sort_values(by =['Postal Code'])\n",
    "Toronto_geodata = Toronto_geodata.rename(columns={\"Postal Code\": \"PostalCode\"})\n",
    "\n",
    "# Add the longitude and latitude date to Original data frame\n",
    "Toronto_code = Toronto_code.merge(Toronto_geodata, on=\"PostalCode\", how = 'inner')\n"
   ]
  },
  {
   "cell_type": "code",
   "execution_count": null,
   "metadata": {},
   "outputs": [],
   "source": []
  }
 ],
 "metadata": {
  "kernelspec": {
   "display_name": "Python 3",
   "language": "python",
   "name": "python3"
  },
  "language_info": {
   "codemirror_mode": {
    "name": "ipython",
    "version": 3
   },
   "file_extension": ".py",
   "mimetype": "text/x-python",
   "name": "python",
   "nbconvert_exporter": "python",
   "pygments_lexer": "ipython3",
   "version": "3.7.1"
  }
 },
 "nbformat": 4,
 "nbformat_minor": 2
}
